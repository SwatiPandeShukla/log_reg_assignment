{
 "cells": [
  {
   "cell_type": "markdown",
   "metadata": {
    "id": "h93yUiuRbzEv"
   },
   "source": [
    "# **Predicting Employee Retention**"
   ]
  },
  {
   "cell_type": "markdown",
   "metadata": {
    "id": "V7YvL652bzE0"
   },
   "source": [
    "### Objective\n",
    "\n",
    "The objective of this assignment is to develop a Logistic Regression model. You will be using this model to analyse and predict binary outcomes based on the input data. This assignment aims to enhance understanding of logistic regression, including its assumptions, implementation, and evaluation, to effectively classify and interpret data.\n"
   ]
  },
  {
   "cell_type": "markdown",
   "metadata": {
    "id": "waZ4IVr4bzE1",
    "jp-MarkdownHeadingCollapsed": true
   },
   "source": [
    "### Business Objective\n",
    "\n",
    "A mid-sized technology company wants to improve its understanding of employee retention to foster a loyal and committed workforce. While the organization has traditionally focused on addressing turnover, it recognises the value of proactively identifying employees likely to stay and understanding the factors contributing to their loyalty.\n",
    "\n",
    "\n",
    "In this assignment you’ll be building a logistic regression model to predict the likelihood of employee retention based on the data such as demographic details, job satisfaction scores, performance metrics, and tenure. The aim is to provide the HR department with actionable insights to strengthen retention strategies, create a supportive work environment, and increase the overall stability and satisfaction of the workforce."
   ]
  },
  {
   "cell_type": "markdown",
   "metadata": {
    "id": "Z7zFcptgbzE2"
   },
   "source": [
    "## Assignment Tasks\n",
    "\n",
    "You need to perform the following steps to complete this assignment:\n",
    "1. Data Understanding\n",
    "2. Data Cleaning\n",
    "3. Train Validation Split\n",
    "4. EDA on training data\n",
    "5. EDA on validation data [Optional]\n",
    "6. Feature Engineering\n",
    "7. Model Building\n",
    "8. Prediction and Model Evaluation\n",
    "\n",
    "\n"
   ]
  },
  {
   "cell_type": "markdown",
   "metadata": {
    "id": "ejDKL2NDceHc"
   },
   "source": [
    "## Data Dictionary\n",
    "\n",
    "The data has 24 Columns and 74610 Rows. Following data dictionary provides the description for each column present in dataset:<br>\n",
    "\n",
    "<table>\n",
    "  <thead>\n",
    "    <tr>\n",
    "      <th>Column Name</th>\n",
    "      <th>Description</th>\n",
    "    </tr>\n",
    "  </thead>\n",
    "  <tbody>\n",
    "    <tr>\n",
    "      <td>Employee ID</td>\n",
    "      <td>A unique identifier assigned to each employee.</td>\n",
    "    </tr>\n",
    "    <tr>\n",
    "      <td>Age</td>\n",
    "      <td>The age of the employee, ranging from 18 to 60 years.</td>\n",
    "    </tr>\n",
    "    <tr>\n",
    "      <td>Gender</td>\n",
    "      <td>The gender of the employee.</td>\n",
    "    </tr>\n",
    "    <tr>\n",
    "      <td>Years at Company</td>\n",
    "      <td>The number of years the employee has been working at the company.</td>\n",
    "    </tr>\n",
    "    <tr>\n",
    "      <td>Monthly Income</td>\n",
    "      <td>The monthly salary of the employee, in dollars.</td>\n",
    "    </tr>\n",
    "    <tr>\n",
    "      <td>Job Role</td>\n",
    "      <td>The department or role the employee works in, encoded into categories such as Finance, Healthcare, Technology, Education, and Media.</td>\n",
    "    </tr>\n",
    "    <tr>\n",
    "      <td>Work-Life Balance</td>\n",
    "      <td>The employee's perceived balance between work and personal life (Poor, Below Average, Good, Excellent).</td>\n",
    "    </tr>\n",
    "    <tr>\n",
    "      <td>Job Satisfaction</td>\n",
    "      <td>The employee's satisfaction with their job (Very Low, Low, Medium, High).</td>\n",
    "    </tr>\n",
    "    <tr>\n",
    "      <td>Performance Rating</td>\n",
    "      <td>The employee's performance rating (Low, Below Average, Average, High).</td>\n",
    "    </tr>\n",
    "    <tr>\n",
    "      <td>Number of Promotions</td>\n",
    "      <td>The total number of promotions the employee has received.</td>\n",
    "    </tr>\n",
    "     </tr>\n",
    "     <tr>\n",
    "      <td>Overtime</td>\n",
    "      <td>Number of overtime hours.</td>\n",
    "    </tr>\n",
    "    <tr>\n",
    "      <td>Distance from Home</td>\n",
    "      <td>The distance between the employee's home and workplace, in miles.</td>\n",
    "    </tr>\n",
    "    <tr>\n",
    "      <td>Education Level</td>\n",
    "      <td>The highest education level attained by the employee (High School, Associate Degree, Bachelor’s Degree, Master’s Degree, PhD).</td>\n",
    "    </tr>\n",
    "    <tr>\n",
    "      <td>Marital Status</td>\n",
    "      <td>The marital status of the employee (Divorced, Married, Single).</td>\n",
    "    </tr>\n",
    "     <tr>\n",
    "      <td>Number of Dependents</td>\n",
    "      <td>Number of dependents the employee has.</td>\n",
    "    </tr>\n",
    "    <tr>\n",
    "      <td>Job Level</td>\n",
    "      <td>The job level of the employee (Entry, Mid, Senior).</td>\n",
    "    </tr>\n",
    "    <tr>\n",
    "      <td>Company Size</td>\n",
    "      <td>The size of the company the employee works for (Small, Medium, Large).</td>\n",
    "    </tr>\n",
    "    <tr>\n",
    "      <td>Company Tenure (In Months)</td>\n",
    "      <td>The total number of years the employee has been working in the industry.</td>\n",
    "    </tr>\n",
    "    <tr>\n",
    "      <td>Remote Work</td>\n",
    "      <td>Whether the employee works remotely (Yes or No).</td>\n",
    "    </tr>\n",
    "    <tr>\n",
    "      <td>Leadership Opportunities</td>\n",
    "      <td>Whether the employee has leadership opportunities (Yes or No).</td>\n",
    "    </tr>\n",
    "    <tr>\n",
    "      <td>Innovation Opportunities</td>\n",
    "      <td>Whether the employee has opportunities for innovation (Yes or No).</td>\n",
    "    </tr>\n",
    "    <tr>\n",
    "      <td>Company Reputation</td>\n",
    "      <td>The employee's perception of the company's reputation (Very Poor, Poor, Good, Excellent).</td>\n",
    "    </tr>\n",
    "    <tr>\n",
    "      <td>Employee Recognition</td>\n",
    "      <td>The level of recognition the employee receives(Very Low, Low, Medium, High).</td>\n",
    "    </tr>\n",
    "    <tr>\n",
    "      <td>Attrition</td>\n",
    "      <td>Whether the employee has left the company.</td>\n",
    "    </tr>\n",
    "  </tbody>\n",
    "</table>\n"
   ]
  },
  {
   "cell_type": "markdown",
   "metadata": {
    "id": "6lmfQyH2bzE5"
   },
   "source": [
    "## **1. Data Understanding**\n",
    "\n",
    "In this step, load the dataset and check basic statistics of the data, including preview of data, dimension of data, column descriptions and data types."
   ]
  },
  {
   "cell_type": "markdown",
   "metadata": {
    "id": "PqhCqH69bzE2"
   },
   "source": [
    "### **1.0 Import Libraries**"
   ]
  },
  {
   "cell_type": "code",
   "execution_count": null,
   "metadata": {
    "id": "1bADKAJibzE3"
   },
   "outputs": [],
   "source": [
    "# Supress unnecessary warnings\n",
    "import warnings\n",
    "warnings.filterwarnings('ignore')"
   ]
  },
  {
   "cell_type": "code",
   "execution_count": null,
   "metadata": {
    "id": "vOoaowGFbzE5"
   },
   "outputs": [],
   "source": [
    "# Import the libraries\n",
    "import numpy as np\n",
    "import pandas as pd"
   ]
  },
  {
   "cell_type": "markdown",
   "metadata": {
    "id": "IzOBYKpCcJZJ"
   },
   "source": [
    "### **1.1 Load the Data**"
   ]
  },
  {
   "cell_type": "code",
   "execution_count": null,
   "metadata": {
    "id": "Vibm0dYcbzE6"
   },
   "outputs": [],
   "source": [
    "# Load the dataset\n",
    "df = pd.read_csv('Employee_data.csv')"
   ]
  },
  {
   "cell_type": "code",
   "execution_count": null,
   "metadata": {
    "id": "bVeUFyDxbzE6"
   },
   "outputs": [
    {
     "data": {
      "text/html": [
       "<div>\n",
       "<style scoped>\n",
       "    .dataframe tbody tr th:only-of-type {\n",
       "        vertical-align: middle;\n",
       "    }\n",
       "\n",
       "    .dataframe tbody tr th {\n",
       "        vertical-align: top;\n",
       "    }\n",
       "\n",
       "    .dataframe thead th {\n",
       "        text-align: right;\n",
       "    }\n",
       "</style>\n",
       "<table border=\"1\" class=\"dataframe\">\n",
       "  <thead>\n",
       "    <tr style=\"text-align: right;\">\n",
       "      <th></th>\n",
       "      <th>Employee ID</th>\n",
       "      <th>Age</th>\n",
       "      <th>Gender</th>\n",
       "      <th>Years at Company</th>\n",
       "      <th>Job Role</th>\n",
       "      <th>Monthly Income</th>\n",
       "      <th>Work-Life Balance</th>\n",
       "      <th>Job Satisfaction</th>\n",
       "      <th>Performance Rating</th>\n",
       "      <th>Number of Promotions</th>\n",
       "      <th>...</th>\n",
       "      <th>Number of Dependents</th>\n",
       "      <th>Job Level</th>\n",
       "      <th>Company Size</th>\n",
       "      <th>Company Tenure (In Months)</th>\n",
       "      <th>Remote Work</th>\n",
       "      <th>Leadership Opportunities</th>\n",
       "      <th>Innovation Opportunities</th>\n",
       "      <th>Company Reputation</th>\n",
       "      <th>Employee Recognition</th>\n",
       "      <th>Attrition</th>\n",
       "    </tr>\n",
       "  </thead>\n",
       "  <tbody>\n",
       "    <tr>\n",
       "      <th>0</th>\n",
       "      <td>8410</td>\n",
       "      <td>31</td>\n",
       "      <td>Male</td>\n",
       "      <td>19</td>\n",
       "      <td>Education</td>\n",
       "      <td>5390</td>\n",
       "      <td>Excellent</td>\n",
       "      <td>Medium</td>\n",
       "      <td>Average</td>\n",
       "      <td>2</td>\n",
       "      <td>...</td>\n",
       "      <td>0</td>\n",
       "      <td>Mid</td>\n",
       "      <td>Medium</td>\n",
       "      <td>89.0</td>\n",
       "      <td>No</td>\n",
       "      <td>No</td>\n",
       "      <td>No</td>\n",
       "      <td>Excellent</td>\n",
       "      <td>Medium</td>\n",
       "      <td>Stayed</td>\n",
       "    </tr>\n",
       "    <tr>\n",
       "      <th>1</th>\n",
       "      <td>64756</td>\n",
       "      <td>59</td>\n",
       "      <td>Female</td>\n",
       "      <td>4</td>\n",
       "      <td>Media</td>\n",
       "      <td>5534</td>\n",
       "      <td>Poor</td>\n",
       "      <td>High</td>\n",
       "      <td>Low</td>\n",
       "      <td>3</td>\n",
       "      <td>...</td>\n",
       "      <td>3</td>\n",
       "      <td>Mid</td>\n",
       "      <td>Medium</td>\n",
       "      <td>21.0</td>\n",
       "      <td>No</td>\n",
       "      <td>No</td>\n",
       "      <td>No</td>\n",
       "      <td>Fair</td>\n",
       "      <td>Low</td>\n",
       "      <td>Stayed</td>\n",
       "    </tr>\n",
       "    <tr>\n",
       "      <th>2</th>\n",
       "      <td>30257</td>\n",
       "      <td>24</td>\n",
       "      <td>Female</td>\n",
       "      <td>10</td>\n",
       "      <td>Healthcare</td>\n",
       "      <td>8159</td>\n",
       "      <td>Good</td>\n",
       "      <td>High</td>\n",
       "      <td>Low</td>\n",
       "      <td>0</td>\n",
       "      <td>...</td>\n",
       "      <td>3</td>\n",
       "      <td>Mid</td>\n",
       "      <td>Medium</td>\n",
       "      <td>74.0</td>\n",
       "      <td>No</td>\n",
       "      <td>No</td>\n",
       "      <td>No</td>\n",
       "      <td>Poor</td>\n",
       "      <td>Low</td>\n",
       "      <td>Stayed</td>\n",
       "    </tr>\n",
       "    <tr>\n",
       "      <th>3</th>\n",
       "      <td>65791</td>\n",
       "      <td>36</td>\n",
       "      <td>Female</td>\n",
       "      <td>7</td>\n",
       "      <td>Education</td>\n",
       "      <td>3989</td>\n",
       "      <td>Good</td>\n",
       "      <td>High</td>\n",
       "      <td>High</td>\n",
       "      <td>1</td>\n",
       "      <td>...</td>\n",
       "      <td>2</td>\n",
       "      <td>Mid</td>\n",
       "      <td>Small</td>\n",
       "      <td>50.0</td>\n",
       "      <td>Yes</td>\n",
       "      <td>No</td>\n",
       "      <td>No</td>\n",
       "      <td>Good</td>\n",
       "      <td>Medium</td>\n",
       "      <td>Stayed</td>\n",
       "    </tr>\n",
       "    <tr>\n",
       "      <th>4</th>\n",
       "      <td>65026</td>\n",
       "      <td>56</td>\n",
       "      <td>Male</td>\n",
       "      <td>41</td>\n",
       "      <td>Education</td>\n",
       "      <td>4821</td>\n",
       "      <td>Fair</td>\n",
       "      <td>Very High</td>\n",
       "      <td>Average</td>\n",
       "      <td>0</td>\n",
       "      <td>...</td>\n",
       "      <td>0</td>\n",
       "      <td>Senior</td>\n",
       "      <td>Medium</td>\n",
       "      <td>68.0</td>\n",
       "      <td>No</td>\n",
       "      <td>No</td>\n",
       "      <td>No</td>\n",
       "      <td>Fair</td>\n",
       "      <td>Medium</td>\n",
       "      <td>Stayed</td>\n",
       "    </tr>\n",
       "  </tbody>\n",
       "</table>\n",
       "<p>5 rows × 24 columns</p>\n",
       "</div>"
      ],
      "text/plain": [
       "   Employee ID  Age  Gender  Years at Company    Job Role  Monthly Income  \\\n",
       "0         8410   31    Male                19   Education            5390   \n",
       "1        64756   59  Female                 4       Media            5534   \n",
       "2        30257   24  Female                10  Healthcare            8159   \n",
       "3        65791   36  Female                 7   Education            3989   \n",
       "4        65026   56    Male                41   Education            4821   \n",
       "\n",
       "  Work-Life Balance Job Satisfaction Performance Rating  Number of Promotions  \\\n",
       "0         Excellent           Medium            Average                     2   \n",
       "1              Poor             High                Low                     3   \n",
       "2              Good             High                Low                     0   \n",
       "3              Good             High               High                     1   \n",
       "4              Fair        Very High            Average                     0   \n",
       "\n",
       "   ... Number of Dependents  Job Level Company Size  \\\n",
       "0  ...                    0        Mid       Medium   \n",
       "1  ...                    3        Mid       Medium   \n",
       "2  ...                    3        Mid       Medium   \n",
       "3  ...                    2        Mid        Small   \n",
       "4  ...                    0     Senior       Medium   \n",
       "\n",
       "  Company Tenure (In Months)  Remote Work Leadership Opportunities  \\\n",
       "0                       89.0           No                       No   \n",
       "1                       21.0           No                       No   \n",
       "2                       74.0           No                       No   \n",
       "3                       50.0          Yes                       No   \n",
       "4                       68.0           No                       No   \n",
       "\n",
       "  Innovation Opportunities  Company Reputation Employee Recognition Attrition  \n",
       "0                       No           Excellent               Medium    Stayed  \n",
       "1                       No                Fair                  Low    Stayed  \n",
       "2                       No                Poor                  Low    Stayed  \n",
       "3                       No                Good               Medium    Stayed  \n",
       "4                       No                Fair               Medium    Stayed  \n",
       "\n",
       "[5 rows x 24 columns]"
      ]
     },
     "execution_count": 12,
     "metadata": {},
     "output_type": "execute_result"
    }
   ],
   "source": [
    "# Check the first few entries\n",
    "df.head()"
   ]
  },
  {
   "cell_type": "code",
   "execution_count": null,
   "metadata": {
    "id": "msGYpADRbzE7"
   },
   "outputs": [
    {
     "data": {
      "text/plain": [
       "(74610, 24)"
      ]
     },
     "execution_count": 13,
     "metadata": {},
     "output_type": "execute_result"
    }
   ],
   "source": [
    "# Inspect the shape of the dataset\n",
    "df.shape"
   ]
  },
  {
   "cell_type": "code",
   "execution_count": null,
   "metadata": {
    "id": "kL53eXK6bzE7"
   },
   "outputs": [
    {
     "name": "stdout",
     "output_type": "stream",
     "text": [
      "<class 'pandas.core.frame.DataFrame'>\n",
      "RangeIndex: 74610 entries, 0 to 74609\n",
      "Data columns (total 24 columns):\n",
      " #   Column                      Non-Null Count  Dtype  \n",
      "---  ------                      --------------  -----  \n",
      " 0   Employee ID                 74610 non-null  int64  \n",
      " 1   Age                         74610 non-null  int64  \n",
      " 2   Gender                      74610 non-null  object \n",
      " 3   Years at Company            74610 non-null  int64  \n",
      " 4   Job Role                    74610 non-null  object \n",
      " 5   Monthly Income              74610 non-null  int64  \n",
      " 6   Work-Life Balance           74610 non-null  object \n",
      " 7   Job Satisfaction            74610 non-null  object \n",
      " 8   Performance Rating          74610 non-null  object \n",
      " 9   Number of Promotions        74610 non-null  int64  \n",
      " 10  Overtime                    74610 non-null  object \n",
      " 11  Distance from Home          72698 non-null  float64\n",
      " 12  Education Level             74610 non-null  object \n",
      " 13  Marital Status              74610 non-null  object \n",
      " 14  Number of Dependents        74610 non-null  int64  \n",
      " 15  Job Level                   74610 non-null  object \n",
      " 16  Company Size                74610 non-null  object \n",
      " 17  Company Tenure (In Months)  72197 non-null  float64\n",
      " 18  Remote Work                 74610 non-null  object \n",
      " 19  Leadership Opportunities    74610 non-null  object \n",
      " 20  Innovation Opportunities    74610 non-null  object \n",
      " 21  Company Reputation          74610 non-null  object \n",
      " 22  Employee Recognition        74610 non-null  object \n",
      " 23  Attrition                   74610 non-null  object \n",
      "dtypes: float64(2), int64(6), object(16)\n",
      "memory usage: 13.7+ MB\n"
     ]
    }
   ],
   "source": [
    "# Inspect the different columns in the dataset\n",
    "df.info()"
   ]
  },
  {
   "cell_type": "markdown",
   "metadata": {
    "id": "LrFKEWp8cmxB"
   },
   "source": [
    "### **1.2 Check the basic statistics**"
   ]
  },
  {
   "cell_type": "code",
   "execution_count": null,
   "metadata": {
    "id": "nCykdG90bzE8"
   },
   "outputs": [
    {
     "data": {
      "text/html": [
       "<div>\n",
       "<style scoped>\n",
       "    .dataframe tbody tr th:only-of-type {\n",
       "        vertical-align: middle;\n",
       "    }\n",
       "\n",
       "    .dataframe tbody tr th {\n",
       "        vertical-align: top;\n",
       "    }\n",
       "\n",
       "    .dataframe thead th {\n",
       "        text-align: right;\n",
       "    }\n",
       "</style>\n",
       "<table border=\"1\" class=\"dataframe\">\n",
       "  <thead>\n",
       "    <tr style=\"text-align: right;\">\n",
       "      <th></th>\n",
       "      <th>Employee ID</th>\n",
       "      <th>Age</th>\n",
       "      <th>Years at Company</th>\n",
       "      <th>Monthly Income</th>\n",
       "      <th>Number of Promotions</th>\n",
       "      <th>Distance from Home</th>\n",
       "      <th>Number of Dependents</th>\n",
       "      <th>Company Tenure (In Months)</th>\n",
       "    </tr>\n",
       "  </thead>\n",
       "  <tbody>\n",
       "    <tr>\n",
       "      <th>count</th>\n",
       "      <td>74610.000000</td>\n",
       "      <td>74610.000000</td>\n",
       "      <td>74610.000000</td>\n",
       "      <td>74610.000000</td>\n",
       "      <td>74610.000000</td>\n",
       "      <td>72698.000000</td>\n",
       "      <td>74610.000000</td>\n",
       "      <td>72197.000000</td>\n",
       "    </tr>\n",
       "    <tr>\n",
       "      <th>mean</th>\n",
       "      <td>37246.028696</td>\n",
       "      <td>38.529379</td>\n",
       "      <td>15.722638</td>\n",
       "      <td>7344.931417</td>\n",
       "      <td>0.832958</td>\n",
       "      <td>49.990839</td>\n",
       "      <td>1.657432</td>\n",
       "      <td>55.711899</td>\n",
       "    </tr>\n",
       "    <tr>\n",
       "      <th>std</th>\n",
       "      <td>21505.785344</td>\n",
       "      <td>12.082299</td>\n",
       "      <td>11.224059</td>\n",
       "      <td>2596.373589</td>\n",
       "      <td>0.995326</td>\n",
       "      <td>28.519135</td>\n",
       "      <td>1.579862</td>\n",
       "      <td>25.392325</td>\n",
       "    </tr>\n",
       "    <tr>\n",
       "      <th>min</th>\n",
       "      <td>1.000000</td>\n",
       "      <td>18.000000</td>\n",
       "      <td>1.000000</td>\n",
       "      <td>1226.000000</td>\n",
       "      <td>0.000000</td>\n",
       "      <td>1.000000</td>\n",
       "      <td>0.000000</td>\n",
       "      <td>2.000000</td>\n",
       "    </tr>\n",
       "    <tr>\n",
       "      <th>25%</th>\n",
       "      <td>18624.250000</td>\n",
       "      <td>28.000000</td>\n",
       "      <td>7.000000</td>\n",
       "      <td>5652.000000</td>\n",
       "      <td>0.000000</td>\n",
       "      <td>25.000000</td>\n",
       "      <td>0.000000</td>\n",
       "      <td>36.000000</td>\n",
       "    </tr>\n",
       "    <tr>\n",
       "      <th>50%</th>\n",
       "      <td>37239.500000</td>\n",
       "      <td>39.000000</td>\n",
       "      <td>13.000000</td>\n",
       "      <td>7348.500000</td>\n",
       "      <td>1.000000</td>\n",
       "      <td>50.000000</td>\n",
       "      <td>1.000000</td>\n",
       "      <td>56.000000</td>\n",
       "    </tr>\n",
       "    <tr>\n",
       "      <th>75%</th>\n",
       "      <td>55871.750000</td>\n",
       "      <td>49.000000</td>\n",
       "      <td>23.000000</td>\n",
       "      <td>8876.000000</td>\n",
       "      <td>2.000000</td>\n",
       "      <td>75.000000</td>\n",
       "      <td>3.000000</td>\n",
       "      <td>76.000000</td>\n",
       "    </tr>\n",
       "    <tr>\n",
       "      <th>max</th>\n",
       "      <td>74498.000000</td>\n",
       "      <td>59.000000</td>\n",
       "      <td>51.000000</td>\n",
       "      <td>50030.000000</td>\n",
       "      <td>4.000000</td>\n",
       "      <td>99.000000</td>\n",
       "      <td>15.000000</td>\n",
       "      <td>128.000000</td>\n",
       "    </tr>\n",
       "  </tbody>\n",
       "</table>\n",
       "</div>"
      ],
      "text/plain": [
       "        Employee ID           Age  Years at Company  Monthly Income  \\\n",
       "count  74610.000000  74610.000000      74610.000000    74610.000000   \n",
       "mean   37246.028696     38.529379         15.722638     7344.931417   \n",
       "std    21505.785344     12.082299         11.224059     2596.373589   \n",
       "min        1.000000     18.000000          1.000000     1226.000000   \n",
       "25%    18624.250000     28.000000          7.000000     5652.000000   \n",
       "50%    37239.500000     39.000000         13.000000     7348.500000   \n",
       "75%    55871.750000     49.000000         23.000000     8876.000000   \n",
       "max    74498.000000     59.000000         51.000000    50030.000000   \n",
       "\n",
       "       Number of Promotions  Distance from Home  Number of Dependents  \\\n",
       "count          74610.000000        72698.000000          74610.000000   \n",
       "mean               0.832958           49.990839              1.657432   \n",
       "std                0.995326           28.519135              1.579862   \n",
       "min                0.000000            1.000000              0.000000   \n",
       "25%                0.000000           25.000000              0.000000   \n",
       "50%                1.000000           50.000000              1.000000   \n",
       "75%                2.000000           75.000000              3.000000   \n",
       "max                4.000000           99.000000             15.000000   \n",
       "\n",
       "       Company Tenure (In Months)  \n",
       "count                72197.000000  \n",
       "mean                    55.711899  \n",
       "std                     25.392325  \n",
       "min                      2.000000  \n",
       "25%                     36.000000  \n",
       "50%                     56.000000  \n",
       "75%                     76.000000  \n",
       "max                    128.000000  "
      ]
     },
     "execution_count": 16,
     "metadata": {},
     "output_type": "execute_result"
    }
   ],
   "source": [
    "# Check the summary of the dataset\n",
    "df.describe()"
   ]
  },
  {
   "cell_type": "markdown",
   "metadata": {
    "id": "vlLfK93PdFkt"
   },
   "source": [
    "### **1.3 Check the data type of columns**"
   ]
  },
  {
   "cell_type": "code",
   "execution_count": null,
   "metadata": {
    "id": "0TplEft3bzE8"
   },
   "outputs": [
    {
     "name": "stdout",
     "output_type": "stream",
     "text": [
      "<class 'pandas.core.frame.DataFrame'>\n",
      "RangeIndex: 74610 entries, 0 to 74609\n",
      "Data columns (total 24 columns):\n",
      " #   Column                      Non-Null Count  Dtype  \n",
      "---  ------                      --------------  -----  \n",
      " 0   Employee ID                 74610 non-null  int64  \n",
      " 1   Age                         74610 non-null  int64  \n",
      " 2   Gender                      74610 non-null  object \n",
      " 3   Years at Company            74610 non-null  int64  \n",
      " 4   Job Role                    74610 non-null  object \n",
      " 5   Monthly Income              74610 non-null  int64  \n",
      " 6   Work-Life Balance           74610 non-null  object \n",
      " 7   Job Satisfaction            74610 non-null  object \n",
      " 8   Performance Rating          74610 non-null  object \n",
      " 9   Number of Promotions        74610 non-null  int64  \n",
      " 10  Overtime                    74610 non-null  object \n",
      " 11  Distance from Home          72698 non-null  float64\n",
      " 12  Education Level             74610 non-null  object \n",
      " 13  Marital Status              74610 non-null  object \n",
      " 14  Number of Dependents        74610 non-null  int64  \n",
      " 15  Job Level                   74610 non-null  object \n",
      " 16  Company Size                74610 non-null  object \n",
      " 17  Company Tenure (In Months)  72197 non-null  float64\n",
      " 18  Remote Work                 74610 non-null  object \n",
      " 19  Leadership Opportunities    74610 non-null  object \n",
      " 20  Innovation Opportunities    74610 non-null  object \n",
      " 21  Company Reputation          74610 non-null  object \n",
      " 22  Employee Recognition        74610 non-null  object \n",
      " 23  Attrition                   74610 non-null  object \n",
      "dtypes: float64(2), int64(6), object(16)\n",
      "memory usage: 13.7+ MB\n"
     ]
    }
   ],
   "source": [
    "# Check the info to see the types of the feature variables and the null values present\n",
    "df.info()"
   ]
  },
  {
   "cell_type": "markdown",
   "metadata": {
    "id": "tNXum35MbzE9"
   },
   "source": [
    "## **2. Data Cleaning** <font color = red>[15 marks]</font>"
   ]
  },
  {
   "cell_type": "markdown",
   "metadata": {
    "id": "tC_ik7dobzE9"
   },
   "source": [
    "### **2.1 Handle the missing values** <font color = red>[10 marks]</font>"
   ]
  },
  {
   "cell_type": "markdown",
   "metadata": {
    "id": "8gPB7iZwdqxM"
   },
   "source": [
    "2.1.1 Check the number of missing values <font color=\"red\">[2 Mark]</font>"
   ]
  },
  {
   "cell_type": "code",
   "execution_count": null,
   "metadata": {
    "id": "zOQGBvHSbzE9"
   },
   "outputs": [
    {
     "data": {
      "text/plain": [
       "Employee ID                      0\n",
       "Age                              0\n",
       "Gender                           0\n",
       "Years at Company                 0\n",
       "Job Role                         0\n",
       "Monthly Income                   0\n",
       "Work-Life Balance                0\n",
       "Job Satisfaction                 0\n",
       "Performance Rating               0\n",
       "Number of Promotions             0\n",
       "Overtime                         0\n",
       "Distance from Home            1912\n",
       "Education Level                  0\n",
       "Marital Status                   0\n",
       "Number of Dependents             0\n",
       "Job Level                        0\n",
       "Company Size                     0\n",
       "Company Tenure (In Months)    2413\n",
       "Remote Work                      0\n",
       "Leadership Opportunities         0\n",
       "Innovation Opportunities         0\n",
       "Company Reputation               0\n",
       "Employee Recognition             0\n",
       "Attrition                        0\n",
       "dtype: int64"
      ]
     },
     "execution_count": 22,
     "metadata": {},
     "output_type": "execute_result"
    }
   ],
   "source": [
    "# Check the number of missing values in each column\n",
    "df.isnull().sum()"
   ]
  },
  {
   "cell_type": "markdown",
   "metadata": {
    "id": "vcFIVIOlR_91"
   },
   "source": [
    "2.1.2 Check the percentage of missing values <font color=\"red\">[2 Marks]</font>"
   ]
  },
  {
   "cell_type": "code",
   "execution_count": null,
   "metadata": {
    "id": "sjpnMExYbzE9"
   },
   "outputs": [
    {
     "data": {
      "text/plain": [
       "Employee ID                   0.000000\n",
       "Age                           0.000000\n",
       "Gender                        0.000000\n",
       "Years at Company              0.000000\n",
       "Job Role                      0.000000\n",
       "Monthly Income                0.000000\n",
       "Work-Life Balance             0.000000\n",
       "Job Satisfaction              0.000000\n",
       "Performance Rating            0.000000\n",
       "Number of Promotions          0.000000\n",
       "Overtime                      0.000000\n",
       "Distance from Home            2.630059\n",
       "Education Level               0.000000\n",
       "Marital Status                0.000000\n",
       "Number of Dependents          0.000000\n",
       "Job Level                     0.000000\n",
       "Company Size                  0.000000\n",
       "Company Tenure (In Months)    3.342244\n",
       "Remote Work                   0.000000\n",
       "Leadership Opportunities      0.000000\n",
       "Innovation Opportunities      0.000000\n",
       "Company Reputation            0.000000\n",
       "Employee Recognition          0.000000\n",
       "Attrition                     0.000000\n",
       "dtype: float64"
      ]
     },
     "execution_count": 24,
     "metadata": {},
     "output_type": "execute_result"
    }
   ],
   "source": [
    "# Check the percentage of missing values in each column\n",
    "missing_values_count = df.isnull().sum()\n",
    "total_values_count = df.count()\n",
    "missing_percentage = (missing_values_count / total_values_count) * 100\n",
    "missing_percentage"
   ]
  },
  {
   "cell_type": "markdown",
   "metadata": {
    "id": "MJL1T8-Sd6S-"
   },
   "source": [
    "2.1.3 Handle rows with missing values <font color=\"red\">[4 Marks]</font>"
   ]
  },
  {
   "cell_type": "code",
   "execution_count": null,
   "metadata": {
    "id": "qIMPqTTWbzE_"
   },
   "outputs": [],
   "source": [
    "# Handle the missing value rows in the column\n",
    "df.dropna(subset=['Distance from Home','Company Tenure (In Months)'], inplace=True)"
   ]
  },
  {
   "cell_type": "markdown",
   "metadata": {
    "id": "uefvEMkDeJhv"
   },
   "source": [
    "2.1.4 Check percentage of remaning data after missing values are removed <font color=\"red\">[2 Mark]</font>"
   ]
  },
  {
   "cell_type": "code",
   "execution_count": null,
   "metadata": {
    "id": "SPIVeWX2bzFA"
   },
   "outputs": [
    {
     "data": {
      "text/plain": [
       "Employee ID                   0.0\n",
       "Age                           0.0\n",
       "Gender                        0.0\n",
       "Years at Company              0.0\n",
       "Job Role                      0.0\n",
       "Monthly Income                0.0\n",
       "Work-Life Balance             0.0\n",
       "Job Satisfaction              0.0\n",
       "Performance Rating            0.0\n",
       "Number of Promotions          0.0\n",
       "Overtime                      0.0\n",
       "Distance from Home            0.0\n",
       "Education Level               0.0\n",
       "Marital Status                0.0\n",
       "Number of Dependents          0.0\n",
       "Job Level                     0.0\n",
       "Company Size                  0.0\n",
       "Company Tenure (In Months)    0.0\n",
       "Remote Work                   0.0\n",
       "Leadership Opportunities      0.0\n",
       "Innovation Opportunities      0.0\n",
       "Company Reputation            0.0\n",
       "Employee Recognition          0.0\n",
       "Attrition                     0.0\n",
       "dtype: float64"
      ]
     },
     "execution_count": 28,
     "metadata": {},
     "output_type": "execute_result"
    }
   ],
   "source": [
    "# Check the percentage of remaining data after missing values are removed\n",
    "missing_values_count = df.isnull().sum()\n",
    "total_values_count = df.count()\n",
    "missing_percentage = (missing_values_count / total_values_count) * 100\n",
    "missing_percentage"
   ]
  },
  {
   "cell_type": "markdown",
   "metadata": {
    "id": "TbUOnf6rGEF1"
   },
   "source": [
    "### **2.2 Identify and handle redundant values within categorical columns (if any)** <font color = red>[3 marks]</font>"
   ]
  },
  {
   "cell_type": "markdown",
   "metadata": {
    "id": "kEYeQw_SeaLi"
   },
   "source": [
    "Examine the categorical columns to determine if any value or column needs to be treated"
   ]
  },
  {
   "cell_type": "code",
   "execution_count": null,
   "metadata": {
    "id": "DIBKtZhZjIk6"
   },
   "outputs": [],
   "source": [
    "# Write a function to display the categorical columns with their unique values and check for redundant values\n",
    "def analyze_categorical_columns(df):\n",
    "  \n",
    "    categorical_cols = df.select_dtypes(include=['object', 'category']).columns\n",
    "\n",
    "    for col in categorical_cols:\n",
    "        print(f\"Column: {col}\")\n",
    "        unique_values = df[col].unique()\n",
    "        print(f\"  Unique Values: {unique_values}\")"
   ]
  },
  {
   "cell_type": "code",
   "execution_count": null,
   "metadata": {
    "id": "P5eoGWCSbzFC"
   },
   "outputs": [
    {
     "name": "stdout",
     "output_type": "stream",
     "text": [
      "Column: Gender\n",
      "  Unique Values: ['Male' 'Female']\n",
      "Column: Job Role\n",
      "  Unique Values: ['Education' 'Media' 'Healthcare' 'Technology' 'Finance']\n",
      "Column: Work-Life Balance\n",
      "  Unique Values: ['Excellent' 'Poor' 'Good' 'Fair']\n",
      "Column: Job Satisfaction\n",
      "  Unique Values: ['Medium' 'High' 'Very High' 'Low']\n",
      "Column: Performance Rating\n",
      "  Unique Values: ['Average' 'Low' 'High' 'Below Average']\n",
      "Column: Overtime\n",
      "  Unique Values: ['No' 'Yes']\n",
      "Column: Education Level\n",
      "  Unique Values: ['Associate Degree' 'Masterâ€™s Degree' 'Bachelorâ€™s Degree'\n",
      " 'High School' 'PhD']\n",
      "Column: Marital Status\n",
      "  Unique Values: ['Married' 'Divorced' 'Single']\n",
      "Column: Job Level\n",
      "  Unique Values: ['Mid' 'Senior' 'Entry']\n",
      "Column: Company Size\n",
      "  Unique Values: ['Medium' 'Small' 'Large']\n",
      "Column: Remote Work\n",
      "  Unique Values: ['No' 'Yes']\n",
      "Column: Leadership Opportunities\n",
      "  Unique Values: ['No' 'Yes']\n",
      "Column: Innovation Opportunities\n",
      "  Unique Values: ['No' 'Yes']\n",
      "Column: Company Reputation\n",
      "  Unique Values: ['Excellent' 'Fair' 'Poor' 'Good']\n",
      "Column: Employee Recognition\n",
      "  Unique Values: ['Medium' 'Low' 'High' 'Very High']\n",
      "Column: Attrition\n",
      "  Unique Values: ['Stayed' 'Left']\n"
     ]
    }
   ],
   "source": [
    "# Check the data\n",
    "analyze_categorical_columns(df)"
   ]
  },
  {
   "cell_type": "markdown",
   "metadata": {
    "id": "7bfojd-9ek3I"
   },
   "source": [
    "### **2.3 Drop redundant columns** <font color = red>[2 marks]</font>"
   ]
  },
  {
   "cell_type": "code",
   "execution_count": null,
   "metadata": {
    "id": "G4tBQCuxbzFC"
   },
   "outputs": [],
   "source": [
    "# Drop redundant columns which are not required for modelling\n",
    "duplicate_cols = df.columns[df.columns.duplicated()]\n",
    "df.drop(columns=duplicate_cols, inplace=True)"
   ]
  },
  {
   "cell_type": "code",
   "execution_count": null,
   "metadata": {
    "id": "diL_DCV9bzFC"
   },
   "outputs": [
    {
     "data": {
      "text/html": [
       "<div>\n",
       "<style scoped>\n",
       "    .dataframe tbody tr th:only-of-type {\n",
       "        vertical-align: middle;\n",
       "    }\n",
       "\n",
       "    .dataframe tbody tr th {\n",
       "        vertical-align: top;\n",
       "    }\n",
       "\n",
       "    .dataframe thead th {\n",
       "        text-align: right;\n",
       "    }\n",
       "</style>\n",
       "<table border=\"1\" class=\"dataframe\">\n",
       "  <thead>\n",
       "    <tr style=\"text-align: right;\">\n",
       "      <th></th>\n",
       "      <th>Employee ID</th>\n",
       "      <th>Age</th>\n",
       "      <th>Gender</th>\n",
       "      <th>Years at Company</th>\n",
       "      <th>Job Role</th>\n",
       "      <th>Monthly Income</th>\n",
       "      <th>Work-Life Balance</th>\n",
       "      <th>Job Satisfaction</th>\n",
       "      <th>Performance Rating</th>\n",
       "      <th>Number of Promotions</th>\n",
       "      <th>...</th>\n",
       "      <th>Number of Dependents</th>\n",
       "      <th>Job Level</th>\n",
       "      <th>Company Size</th>\n",
       "      <th>Company Tenure (In Months)</th>\n",
       "      <th>Remote Work</th>\n",
       "      <th>Leadership Opportunities</th>\n",
       "      <th>Innovation Opportunities</th>\n",
       "      <th>Company Reputation</th>\n",
       "      <th>Employee Recognition</th>\n",
       "      <th>Attrition</th>\n",
       "    </tr>\n",
       "  </thead>\n",
       "  <tbody>\n",
       "    <tr>\n",
       "      <th>0</th>\n",
       "      <td>8410</td>\n",
       "      <td>31</td>\n",
       "      <td>Male</td>\n",
       "      <td>19</td>\n",
       "      <td>Education</td>\n",
       "      <td>5390</td>\n",
       "      <td>Excellent</td>\n",
       "      <td>Medium</td>\n",
       "      <td>Average</td>\n",
       "      <td>2</td>\n",
       "      <td>...</td>\n",
       "      <td>0</td>\n",
       "      <td>Mid</td>\n",
       "      <td>Medium</td>\n",
       "      <td>89.0</td>\n",
       "      <td>No</td>\n",
       "      <td>No</td>\n",
       "      <td>No</td>\n",
       "      <td>Excellent</td>\n",
       "      <td>Medium</td>\n",
       "      <td>Stayed</td>\n",
       "    </tr>\n",
       "    <tr>\n",
       "      <th>1</th>\n",
       "      <td>64756</td>\n",
       "      <td>59</td>\n",
       "      <td>Female</td>\n",
       "      <td>4</td>\n",
       "      <td>Media</td>\n",
       "      <td>5534</td>\n",
       "      <td>Poor</td>\n",
       "      <td>High</td>\n",
       "      <td>Low</td>\n",
       "      <td>3</td>\n",
       "      <td>...</td>\n",
       "      <td>3</td>\n",
       "      <td>Mid</td>\n",
       "      <td>Medium</td>\n",
       "      <td>21.0</td>\n",
       "      <td>No</td>\n",
       "      <td>No</td>\n",
       "      <td>No</td>\n",
       "      <td>Fair</td>\n",
       "      <td>Low</td>\n",
       "      <td>Stayed</td>\n",
       "    </tr>\n",
       "    <tr>\n",
       "      <th>2</th>\n",
       "      <td>30257</td>\n",
       "      <td>24</td>\n",
       "      <td>Female</td>\n",
       "      <td>10</td>\n",
       "      <td>Healthcare</td>\n",
       "      <td>8159</td>\n",
       "      <td>Good</td>\n",
       "      <td>High</td>\n",
       "      <td>Low</td>\n",
       "      <td>0</td>\n",
       "      <td>...</td>\n",
       "      <td>3</td>\n",
       "      <td>Mid</td>\n",
       "      <td>Medium</td>\n",
       "      <td>74.0</td>\n",
       "      <td>No</td>\n",
       "      <td>No</td>\n",
       "      <td>No</td>\n",
       "      <td>Poor</td>\n",
       "      <td>Low</td>\n",
       "      <td>Stayed</td>\n",
       "    </tr>\n",
       "    <tr>\n",
       "      <th>3</th>\n",
       "      <td>65791</td>\n",
       "      <td>36</td>\n",
       "      <td>Female</td>\n",
       "      <td>7</td>\n",
       "      <td>Education</td>\n",
       "      <td>3989</td>\n",
       "      <td>Good</td>\n",
       "      <td>High</td>\n",
       "      <td>High</td>\n",
       "      <td>1</td>\n",
       "      <td>...</td>\n",
       "      <td>2</td>\n",
       "      <td>Mid</td>\n",
       "      <td>Small</td>\n",
       "      <td>50.0</td>\n",
       "      <td>Yes</td>\n",
       "      <td>No</td>\n",
       "      <td>No</td>\n",
       "      <td>Good</td>\n",
       "      <td>Medium</td>\n",
       "      <td>Stayed</td>\n",
       "    </tr>\n",
       "    <tr>\n",
       "      <th>4</th>\n",
       "      <td>65026</td>\n",
       "      <td>56</td>\n",
       "      <td>Male</td>\n",
       "      <td>41</td>\n",
       "      <td>Education</td>\n",
       "      <td>4821</td>\n",
       "      <td>Fair</td>\n",
       "      <td>Very High</td>\n",
       "      <td>Average</td>\n",
       "      <td>0</td>\n",
       "      <td>...</td>\n",
       "      <td>0</td>\n",
       "      <td>Senior</td>\n",
       "      <td>Medium</td>\n",
       "      <td>68.0</td>\n",
       "      <td>No</td>\n",
       "      <td>No</td>\n",
       "      <td>No</td>\n",
       "      <td>Fair</td>\n",
       "      <td>Medium</td>\n",
       "      <td>Stayed</td>\n",
       "    </tr>\n",
       "  </tbody>\n",
       "</table>\n",
       "<p>5 rows × 24 columns</p>\n",
       "</div>"
      ],
      "text/plain": [
       "   Employee ID  Age  Gender  Years at Company    Job Role  Monthly Income  \\\n",
       "0         8410   31    Male                19   Education            5390   \n",
       "1        64756   59  Female                 4       Media            5534   \n",
       "2        30257   24  Female                10  Healthcare            8159   \n",
       "3        65791   36  Female                 7   Education            3989   \n",
       "4        65026   56    Male                41   Education            4821   \n",
       "\n",
       "  Work-Life Balance Job Satisfaction Performance Rating  Number of Promotions  \\\n",
       "0         Excellent           Medium            Average                     2   \n",
       "1              Poor             High                Low                     3   \n",
       "2              Good             High                Low                     0   \n",
       "3              Good             High               High                     1   \n",
       "4              Fair        Very High            Average                     0   \n",
       "\n",
       "   ... Number of Dependents  Job Level Company Size  \\\n",
       "0  ...                    0        Mid       Medium   \n",
       "1  ...                    3        Mid       Medium   \n",
       "2  ...                    3        Mid       Medium   \n",
       "3  ...                    2        Mid        Small   \n",
       "4  ...                    0     Senior       Medium   \n",
       "\n",
       "  Company Tenure (In Months)  Remote Work Leadership Opportunities  \\\n",
       "0                       89.0           No                       No   \n",
       "1                       21.0           No                       No   \n",
       "2                       74.0           No                       No   \n",
       "3                       50.0          Yes                       No   \n",
       "4                       68.0           No                       No   \n",
       "\n",
       "  Innovation Opportunities  Company Reputation Employee Recognition Attrition  \n",
       "0                       No           Excellent               Medium    Stayed  \n",
       "1                       No                Fair                  Low    Stayed  \n",
       "2                       No                Poor                  Low    Stayed  \n",
       "3                       No                Good               Medium    Stayed  \n",
       "4                       No                Fair               Medium    Stayed  \n",
       "\n",
       "[5 rows x 24 columns]"
      ]
     },
     "execution_count": 35,
     "metadata": {},
     "output_type": "execute_result"
    }
   ],
   "source": [
    "# Check first few rows of data\n",
    "df.head()"
   ]
  },
  {
   "cell_type": "code",
   "execution_count": null,
   "metadata": {},
   "outputs": [],
   "source": [
    "#df_encoded = df_encoded.drop()"
   ]
  },
  {
   "cell_type": "markdown",
   "metadata": {
    "id": "4j3GERIwML89"
   },
   "source": [
    "## **3. Train-Validation Split** <font color = red>[5 marks]</font>"
   ]
  },
  {
   "cell_type": "markdown",
   "metadata": {
    "id": "3k6v53qJhWvt"
   },
   "source": [
    "### **3.1 Import required libraries**"
   ]
  },
  {
   "cell_type": "code",
   "execution_count": null,
   "metadata": {
    "id": "sYg9FxlvbzFH"
   },
   "outputs": [],
   "source": [
    "# Import Train Test Split\n",
    "from sklearn.model_selection import train_test_split"
   ]
  },
  {
   "cell_type": "markdown",
   "metadata": {
    "id": "KZbrbFe2hex4"
   },
   "source": [
    "### **3.2 Define feature and target variables** <font color = red>[2 Mark]</font>"
   ]
  },
  {
   "cell_type": "code",
   "execution_count": null,
   "metadata": {
    "id": "UfJfQrc5bzFH"
   },
   "outputs": [],
   "source": [
    "# Put all the feature variables in X\n",
    "X = df.drop('Attrition', axis = 1)\n",
    "# Put the target variable in y\n",
    "y = df['Attrition']"
   ]
  },
  {
   "cell_type": "markdown",
   "metadata": {
    "id": "say6J66Bh9mo"
   },
   "source": [
    "### **3.3 Split the data** <font color=\"red\">[3 Marks]</font>"
   ]
  },
  {
   "cell_type": "code",
   "execution_count": null,
   "metadata": {
    "id": "zghEvbRUbzFH"
   },
   "outputs": [],
   "source": [
    "# Split the data into 70% train data and 30% validation data\n",
    "from sklearn.model_selection import train_test_split\n",
    "df_train, df_val= train_test_split(df, train_size=0.7, random_state=42)\n",
    "print(df_train.shape)\n",
    "print(df_val.shape)"
   ]
  },
  {
   "cell_type": "markdown",
   "metadata": {
    "id": "ldKNxCXogIz2"
   },
   "source": [
    "## **4. EDA on training data** <font color = red>[20 marks]</font>"
   ]
  },
  {
   "cell_type": "markdown",
   "metadata": {
    "id": "CGyYCt8-ZBR1"
   },
   "source": [
    "### **4.1 Perform univariate analysis** <font color = red>[6 marks]</font>"
   ]
  },
  {
   "cell_type": "markdown",
   "metadata": {
    "id": "YTdmWrZ1gjmv"
   },
   "source": [
    "Perform univariate analysis on training data for all the numerical columns.\n",
    "\n",
    "\n"
   ]
  },
  {
   "cell_type": "markdown",
   "metadata": {
    "id": "hDDjpMUcZPrp"
   },
   "source": [
    "4.1.1 Select numerical columns from training data <font color = \"red\">[1 Mark]</font>"
   ]
  },
  {
   "cell_type": "code",
   "execution_count": null,
   "metadata": {
    "id": "ilQNUm3ugqEb"
   },
   "outputs": [],
   "source": [
    "# Select numerical columns\n",
    "numerical_list = ['Years at Company', 'Monthly Income', 'Number of Promotions', 'Distance from Home', 'Number of Dependents', 'Company Tenure (In Months)']"
   ]
  },
  {
   "cell_type": "markdown",
   "metadata": {
    "id": "kx8SQw19ZfXw"
   },
   "source": [
    "4.1.2 Plot distribution of numerical columns <font color = \"red\">[5 Marks]</font>"
   ]
  },
  {
   "cell_type": "code",
   "execution_count": null,
   "metadata": {},
   "outputs": [],
   "source": [
    "df_encoded = pd.get_dummies(df_train, columns = ['Gender', 'Job Role', 'Work-Life Balance', 'Job Satisfaction', 'Performance Rating', 'Overtime', 'Education Level', 'Marital Status', 'Job Level', 'Company Size', 'Remote Work', 'Leadership Opportunities', 'Innovation Opportunities', 'Company Reputation', 'Employee Recognition', 'Attrition'], dtype = int )"
   ]
  },
  {
   "cell_type": "code",
   "execution_count": null,
   "metadata": {
    "id": "zH5WGU_tgxnL"
   },
   "outputs": [],
   "source": [
    "# Import necessary libraries\n",
    "import seaborn as sns\n",
    "import matplotlib.pyplot as plt\n",
    "\n",
    "# Plot all the numerical columns to understand their distribution\n",
    "sns.pairplot(df_encoded[numerical_list])\n",
    "plt.show()"
   ]
  },
  {
   "cell_type": "markdown",
   "metadata": {
    "id": "ZwJQGBQuZwnC"
   },
   "source": [
    "### **4.2 Perform correlation analysis** <font color=\"red\">[4 Marks]</font>"
   ]
  },
  {
   "cell_type": "markdown",
   "metadata": {
    "id": "RN3ENFP6oRjq"
   },
   "source": [
    "Check the correlation among different numerical variables."
   ]
  },
  {
   "cell_type": "code",
   "execution_count": null,
   "metadata": {
    "id": "qPFKI4vZoXXw"
   },
   "outputs": [],
   "source": [
    "# Create correlation matrix for numerical columns\n",
    "correlation_matrix = df_encoded.corr()\n",
    "\n",
    "# Plot Heatmap of the correlation matrix\n",
    "plt.figure(figsize=(40,20))\n",
    "sns.heatmap(correlation_matrix, annot= True, cmap = 'YlGnBu')\n",
    "plt.show()"
   ]
  },
  {
   "cell_type": "markdown",
   "metadata": {
    "id": "g6YQGm9HaKA7"
   },
   "source": [
    "### **4.3 Check class balance** <font color=\"red\">[2 Marks]</font>"
   ]
  },
  {
   "cell_type": "markdown",
   "metadata": {
    "id": "_--fA2Dcpjml"
   },
   "source": [
    "Check the distribution of target variable in training set to check class balance."
   ]
  },
  {
   "cell_type": "code",
   "execution_count": null,
   "metadata": {
    "id": "Lp-suUWKpn8h"
   },
   "outputs": [],
   "source": [
    "# Plot a bar chart to check class balance\n",
    "class_counts = df_train['Attrition'].value_counts()\n",
    "   \n",
    "plt.bar(class_counts.index, class_counts.values)\n",
    "plt.xlabel(\"Classes\")\n",
    "plt.ylabel(\"Count\")\n",
    "plt.title(\"Class Balance\")\n",
    "plt.show()"
   ]
  },
  {
   "cell_type": "markdown",
   "metadata": {
    "id": "lZ-lppqAaeZM"
   },
   "source": [
    "### **4.4 Perform bivariate analysis** <font color=\"red\">[8 Marks]</font>"
   ]
  },
  {
   "cell_type": "markdown",
   "metadata": {
    "id": "i4JjkVzja1kA"
   },
   "source": [
    "Perform bivariate analysis on training data between all the categorical columns and target variable to  analyse how the categorical variables influence the target variable."
   ]
  },
  {
   "cell_type": "code",
   "execution_count": null,
   "metadata": {},
   "outputs": [],
   "source": [
    "class_counts = df_encoded['Attrition_Stayed'].value_counts()\n",
    "class_counts"
   ]
  },
  {
   "cell_type": "code",
   "execution_count": null,
   "metadata": {
    "id": "3-rK15xjsv6f"
   },
   "outputs": [],
   "source": [
    "# Plot distribution for each categorical column with target variable\n",
    "plt.figure(figsize=(40,20))\n",
    "\n",
    "plt.subplot(5,3,1)\n",
    "sns.boxplot(x='Gender', y='Attrition' ,data=df_train)\n",
    "\n",
    "plt.subplot(5,3,2)\n",
    "sns.boxplot(x='Job Role',y='Attrition',data=df_train)\n",
    "\n",
    "plt.subplot(5,3,3)\n",
    "sns.boxplot(x='Work-Life Balance',y='Attrition',data=df_train)\n",
    "\n",
    "plt.subplot(5,3,4)\n",
    "sns.boxplot(x='Job Satisfaction',y='Attrition',data=df_train)\n",
    "\n",
    "plt.subplot(5,3,5)\n",
    "sns.boxplot(x='Performance Rating',y='Attrition',data=df_train)\n",
    "\n",
    "plt.subplot(5,3,6)\n",
    "sns.boxplot(x='Overtime',y='Attrition',data=df_train)\n",
    "\n",
    "plt.subplot(5,3,7)\n",
    "sns.boxplot(x='Education Level',y='Attrition',data=df_train)\n",
    "\n",
    "plt.subplot(5,3,8)\n",
    "sns.boxplot(x='Marital Status',y='Attrition',data=df_train)\n",
    "\n",
    "plt.subplot(5,3,9)\n",
    "sns.boxplot(x='Job Level',y='Attrition',data=df_train)\n",
    "\n",
    "plt.subplot(5,3,10)\n",
    "sns.boxplot(x='Company Size',y='Attrition',data=df_train)\n",
    "\n",
    "plt.subplot(5,3,11)\n",
    "sns.boxplot(x='Remote Work',y='Attrition',data=df_train)\n",
    "\n",
    "plt.subplot(5,3,12)\n",
    "sns.boxplot(x='Leadership Opportunities',y='Attrition',data=df_train)\n",
    "\n",
    "plt.subplot(5,3,13)\n",
    "sns.boxplot(x='Innovation Opportunities',y='Attrition',data=df_train)\n",
    "\n",
    "plt.subplot(5,3,14)\n",
    "sns.boxplot(x='Company Reputation',y='Attrition',data=df_train)\n",
    "\n",
    "plt.subplot(5,3,15)\n",
    "sns.boxplot(x='Employee Recognition',y='Attrition',data=df_train)"
   ]
  },
  {
   "cell_type": "markdown",
   "metadata": {
    "id": "nqRcfQ4avArz"
   },
   "source": [
    "## **5. EDA on validation data** <font color = red>[OPTIONAL]</font>"
   ]
  },
  {
   "cell_type": "markdown",
   "metadata": {
    "id": "I9Iq1uvfa7ro"
   },
   "source": [
    "### **5.1 Perform univariate analysis**"
   ]
  },
  {
   "cell_type": "markdown",
   "metadata": {
    "id": "EScWfXFNvAr3"
   },
   "source": [
    "Perform univariate analysis on validation data for all the numerical columns.\n"
   ]
  },
  {
   "cell_type": "markdown",
   "metadata": {
    "id": "ofFfSSPSa0sD"
   },
   "source": [
    "5.1.1 Select numerical columns from validation data"
   ]
  },
  {
   "cell_type": "code",
   "execution_count": null,
   "metadata": {
    "id": "BpkHJm8BvAr3"
   },
   "outputs": [],
   "source": [
    "# Select numerical columns\n",
    "numerical_col_list = ['Years at Company', 'Monthly Income', 'Number of Promotions', 'Number of Dependents', 'Company Tenure (In Months)']"
   ]
  },
  {
   "cell_type": "markdown",
   "metadata": {
    "id": "vZbQ8HzRbDPP"
   },
   "source": [
    "5.1.2 Plot distribution of numerical columns"
   ]
  },
  {
   "cell_type": "code",
   "execution_count": null,
   "metadata": {
    "id": "VoNtrdrUvAr4"
   },
   "outputs": [],
   "source": [
    "# Plot all the numerical columns to understand their distribution\n",
    "sns.pairplot(df_val[numerical_col_list])\n",
    "plt.show()"
   ]
  },
  {
   "cell_type": "markdown",
   "metadata": {
    "id": "85zpsiHUvAr4"
   },
   "source": [
    "### **5.2 Perform correlation analysis**"
   ]
  },
  {
   "cell_type": "markdown",
   "metadata": {
    "id": "5TcmX7ywaWuo"
   },
   "source": [
    "Check the correlation among different numerical variables."
   ]
  },
  {
   "cell_type": "code",
   "execution_count": null,
   "metadata": {
    "id": "ylnfMmNqvAr4"
   },
   "outputs": [],
   "source": [
    "# Create correlation matrix for numerical columns\n",
    "df_encoded_1 = pd.get_dummies(df_val, columns = ['Gender', 'Job Role', 'Work-Life Balance', 'Job Satisfaction', 'Performance Rating', 'Overtime', 'Education Level', 'Marital Status', 'Job Level', 'Company Size', 'Remote Work', 'Leadership Opportunities', 'Innovation Opportunities', 'Company Reputation', 'Employee Recognition', 'Attrition'], dtype = int )\n",
    "correlation_matrix_1 = df_encoded_1.corr()\n",
    "# Plot Heatmap of the correlation matrix\n",
    "plt.figure(figsize=(40,20))\n",
    "sns.heatmap(correlation_matrix_1 , annot= True, cmap = 'YlGnBu')\n",
    "plt.show()"
   ]
  },
  {
   "cell_type": "markdown",
   "metadata": {
    "id": "1fcm5Q1vvAr5"
   },
   "source": [
    "### **5.3 Check class balance**"
   ]
  },
  {
   "cell_type": "markdown",
   "metadata": {
    "id": "qz6Ewijyaa9h"
   },
   "source": [
    "Check the distribution of target variable in validation data to check class balance."
   ]
  },
  {
   "cell_type": "code",
   "execution_count": null,
   "metadata": {
    "id": "ZiHsUZnkvAr5"
   },
   "outputs": [],
   "source": [
    "# Plot a bar chart to check class balance\n",
    "class_counts = df_val['Attrition'].value_counts()\n",
    "   \n",
    "plt.bar(class_counts.index, class_counts.values)\n",
    "plt.xlabel(\"Classes\")\n",
    "plt.ylabel(\"Count\")\n",
    "plt.title(\"Class Balance\")\n",
    "plt.show()"
   ]
  },
  {
   "cell_type": "markdown",
   "metadata": {
    "id": "YQAoo6aKbcWz"
   },
   "source": [
    "### **5.4 Perform bivariate analysis**"
   ]
  },
  {
   "cell_type": "markdown",
   "metadata": {
    "id": "14-qNV44djPP"
   },
   "source": [
    "Perform bivariate analysis on validation data between all the categorical columns and target variable to analyse how the categorical variables influence the target variable."
   ]
  },
  {
   "cell_type": "code",
   "execution_count": null,
   "metadata": {
    "id": "0EO4qSIovAr6"
   },
   "outputs": [],
   "source": [
    "# Plot distribution for each categorical column with target variable\n",
    "plt.figure(figsize=(40,20))\n",
    "\n",
    "plt.subplot(5,3,1)\n",
    "sns.boxplot(x='Gender', y='Attrition' ,data=df_val)\n",
    "\n",
    "plt.subplot(5,3,2)\n",
    "sns.boxplot(x='Job Role',y='Attrition',data=df_val)\n",
    "\n",
    "plt.subplot(5,3,3)\n",
    "sns.boxplot(x='Work-Life Balance',y='Attrition',data=df_val)\n",
    "\n",
    "plt.subplot(5,3,4)\n",
    "sns.boxplot(x='Job Satisfaction',y='Attrition',data=df_val)\n",
    "\n",
    "plt.subplot(5,3,5)\n",
    "sns.boxplot(x='Performance Rating',y='Attrition',data=df_val)\n",
    "\n",
    "plt.subplot(5,3,6)\n",
    "sns.boxplot(x='Overtime',y='Attrition',data=df_val)\n",
    "\n",
    "plt.subplot(5,3,7)\n",
    "sns.boxplot(x='Education Level',y='Attrition',data=df_val)\n",
    "\n",
    "plt.subplot(5,3,8)\n",
    "sns.boxplot(x='Marital Status',y='Attrition',data=df_val)\n",
    "\n",
    "plt.subplot(5,3,9)\n",
    "sns.boxplot(x='Job Level',y='Attrition',data=df_val)\n",
    "\n",
    "plt.subplot(5,3,10)\n",
    "sns.boxplot(x='Company Size',y='Attrition',data=df_val)\n",
    "\n",
    "plt.subplot(5,3,11)\n",
    "sns.boxplot(x='Remote Work',y='Attrition',data=df_val)\n",
    "\n",
    "plt.subplot(5,3,12)\n",
    "sns.boxplot(x='Leadership Opportunities',y='Attrition',data=df_val)\n",
    "\n",
    "plt.subplot(5,3,13)\n",
    "sns.boxplot(x='Innovation Opportunities',y='Attrition',data=df_val)\n",
    "\n",
    "plt.subplot(5,3,14)\n",
    "sns.boxplot(x='Company Reputation',y='Attrition',data=df_val)\n",
    "\n",
    "plt.subplot(5,3,15)\n",
    "sns.boxplot(x='Employee Recognition',y='Attrition',data=df_val)"
   ]
  },
  {
   "cell_type": "markdown",
   "metadata": {
    "id": "0DGrycx6wKmN"
   },
   "source": [
    "## **6. Feature Engineering** <font color = red>[20 marks]</font>"
   ]
  },
  {
   "cell_type": "markdown",
   "metadata": {
    "id": "xzdF2TmEbzFD"
   },
   "source": [
    "### **6.1 Dummy variable creation** <font color = red>[15 marks]</font>\n",
    "\n",
    "\n",
    "The next step is to deal with the categorical variables present in the data."
   ]
  },
  {
   "cell_type": "markdown",
   "metadata": {
    "id": "_vG9HZkVe3Lk"
   },
   "source": [
    "6.1.1 Identify categorical columns where dummy variables are required <font color=\"red\">[1 Mark]</font>"
   ]
  },
  {
   "cell_type": "code",
   "execution_count": null,
   "metadata": {
    "id": "7dUFEFVGbzFD"
   },
   "outputs": [],
   "source": [
    "# Check the categorical columns\n",
    "categorical_columns = df.select_dtypes(include=['object', 'string', 'category']).columns\n",
    "categorical_columns"
   ]
  },
  {
   "cell_type": "markdown",
   "metadata": {
    "id": "dLpmkPp6e-1j"
   },
   "source": [
    "6.1.2 Create dummy variables for independent columns in training set <font color=\"red\">[3 Marks]</font>"
   ]
  },
  {
   "cell_type": "code",
   "execution_count": null,
   "metadata": {
    "id": "x5vk968HbzFE"
   },
   "outputs": [],
   "source": [
    "# Create dummy variables using the 'get_dummies' for independent columns\n",
    "df_encoded = pd.get_dummies(df_train, columns = ['Gender', 'Job Role', 'Work-Life Balance', 'Job Satisfaction', 'Performance Rating', 'Overtime', 'Education Level', 'Marital Status', 'Job Level', 'Company Size', 'Remote Work', 'Leadership Opportunities', 'Innovation Opportunities', 'Company Reputation', 'Employee Recognition', 'Attrition'], dtype = int )\n",
    "\n",
    "# Add the results to the master DataFrame\n",
    "df = df.merge(df_encoded, how='inner', on='Employee ID')"
   ]
  },
  {
   "cell_type": "markdown",
   "metadata": {
    "id": "xJFSbVR9uYjT"
   },
   "source": [
    "Now, drop the original categorical columns and check the DataFrame"
   ]
  },
  {
   "cell_type": "code",
   "execution_count": null,
   "metadata": {
    "id": "m-U8OPvKyOs-"
   },
   "outputs": [],
   "source": [
    "# Drop the original categorical columns and check the DataFrame\n",
    "df = df.drop(columns=['Age_x', 'Years at Company_x' , 'Monthly Income_x', 'Number of Promotions_x', 'Distance from Home_x', 'Number of Dependents_x', 'Company Tenure (In Months)_x'], axis=1)\n",
    "df.head()"
   ]
  },
  {
   "cell_type": "markdown",
   "metadata": {
    "id": "kqMXYxpowQc6"
   },
   "source": [
    "6.1.3 Create dummy variables for independent columns in validation set <font color=\"red\">[3 Marks]</font>"
   ]
  },
  {
   "cell_type": "code",
   "execution_count": null,
   "metadata": {
    "id": "Ib8Zdq6Ruuj_"
   },
   "outputs": [],
   "source": [
    "# Create dummy variables using the 'get_dummies' for independent columns\n",
    "df_encoded_1 = pd.get_dummies(df_val, columns = ['Gender', 'Job Role', 'Work-Life Balance', 'Job Satisfaction', 'Performance Rating', 'Overtime', 'Education Level', 'Marital Status', 'Job Level', 'Company Size', 'Remote Work', 'Leadership Opportunities', 'Innovation Opportunities', 'Company Reputation', 'Employee Recognition', 'Attrition'], dtype = int )\n",
    "\n",
    "# Add the results to the master DataFrame\n",
    "df = df.merge(df_encoded_1, how='inner', on='Employee ID')"
   ]
  },
  {
   "cell_type": "markdown",
   "metadata": {
    "id": "9RDKGX9N4qLq"
   },
   "source": [
    "Now, drop the original categorical columns and check the DataFrame"
   ]
  },
  {
   "cell_type": "code",
   "execution_count": null,
   "metadata": {
    "id": "Dh6Mk_JvyUkz"
   },
   "outputs": [],
   "source": [
    "# Drop categorical columns and check the DataFrame\n",
    "df = df.drop(df.select_dtypes(include=['object']).columns, axis=1)\n",
    "df.head()"
   ]
  },
  {
   "cell_type": "markdown",
   "metadata": {
    "id": "zesgvCjzPHba"
   },
   "source": [
    "6.1.4 Create DataFrame for dependent column in both training and validation set <font color = \"red\">[1 Mark]</font>"
   ]
  },
  {
   "cell_type": "code",
   "execution_count": null,
   "metadata": {
    "id": "e2JTJRaa-qem"
   },
   "outputs": [],
   "source": [
    "# Convert y_train and y_validation to DataFrame to create dummy variables\n",
    "y_train = df_train['Attrition']\n",
    "y_train_df = pd.DataFrame(y_train)\n",
    "y_val = df_val['Attrition']\n",
    "y_validation_df = pd.DataFrame(y_val)\n",
    "y_df = y_train_df.merge(y_validation_df, how='inner')\n",
    "y_df.head()"
   ]
  },
  {
   "cell_type": "markdown",
   "metadata": {
    "id": "2QN-k-IHPX5s"
   },
   "source": [
    "6.1.5 Create dummy variables for dependent column in training set <font color=\"red\">[3 Marks]</font>"
   ]
  },
  {
   "cell_type": "code",
   "execution_count": null,
   "metadata": {
    "id": "OfrtF4a59LNK"
   },
   "outputs": [],
   "source": [
    "# Create dummy variables using the 'get_dummies' for dependent column\n",
    "df_y_train = pd.get_dummies(y_train_df, columns= ['Attrition'])"
   ]
  },
  {
   "cell_type": "markdown",
   "metadata": {
    "id": "8p_zQEx4w-OU"
   },
   "source": [
    "6.1.6 Create dummy variable for dependent column in validation set <font color = \"red\">[3 Marks]</font>"
   ]
  },
  {
   "cell_type": "code",
   "execution_count": null,
   "metadata": {
    "id": "5mWed8j5xOS7"
   },
   "outputs": [],
   "source": [
    "# Create dummy variables using the 'get_dummies' for dependent column\n",
    "df_y_val = pd.get_dummies(y_validation_df, columns= ['Attrition'])"
   ]
  },
  {
   "cell_type": "markdown",
   "metadata": {
    "id": "-ej5eSB4PiCx"
   },
   "source": [
    "6.1.7 Drop redundant columns <font color=\"red\">[1 Mark]</font>"
   ]
  },
  {
   "cell_type": "code",
   "execution_count": null,
   "metadata": {
    "id": "WxYmaNE5Aoas"
   },
   "outputs": [],
   "source": [
    "# Drop redundant columns from both train and validation\n",
    "df_y_val = df_y_val.drop('Attrition_Left', axis=1)\n",
    "df_y_train = df_y_train.drop('Attrition_Left', axis=1) "
   ]
  },
  {
   "cell_type": "markdown",
   "metadata": {
    "id": "8zL0XwIAbzFH"
   },
   "source": [
    "### **6.2 Feature scaling** <font color = red>[5 marks]</font>\n",
    "\n",
    "Apply feature scaling to the numeric columns to bring them to a common range and ensure consistent scaling."
   ]
  },
  {
   "cell_type": "markdown",
   "metadata": {
    "id": "x2Di6iSjU41j"
   },
   "source": [
    "6.2.1 Import required libraries <font color=\"red\">[1 Mark]</font>"
   ]
  },
  {
   "cell_type": "code",
   "execution_count": null,
   "metadata": {
    "id": "AhsJWDc4bzFH"
   },
   "outputs": [],
   "source": [
    "# Import the necessary scaling tool from scikit-learn\n",
    "from sklearn import preprocessing\n",
    "from sklearn.preprocessing import StandardScaler"
   ]
  },
  {
   "cell_type": "markdown",
   "metadata": {
    "id": "-RE9MEgQVAg8"
   },
   "source": [
    "6.2.2 Scale the numerical features <font color=\"red\">[4 Marks]</font>"
   ]
  },
  {
   "cell_type": "code",
   "execution_count": null,
   "metadata": {
    "id": "WCV2mKErbzFH"
   },
   "outputs": [],
   "source": [
    "# Scale the numeric features present in the training set\n",
    "numeric_features = df_train.select_dtypes(include=['number']).columns\n",
    "scaler = MinMaxScaler() \n",
    "df_train[numeric_features] = scaler.fit_transform(df_train[numeric_features])\n",
    "# Scale the numerical features present in the validation set\n",
    "df_validation[numeric_features] = scaler.fit_transform(df_validation[numeric_features])"
   ]
  },
  {
   "cell_type": "markdown",
   "metadata": {
    "id": "BFIOMdJqBRyw"
   },
   "source": [
    "## **7. Model Building** <font color = red>[40 marks]</font>"
   ]
  },
  {
   "cell_type": "markdown",
   "metadata": {
    "id": "5VrBY3MpbzFI"
   },
   "source": [
    "### **7.1 Feature selection** <font color = red>[5 marks]</font>\n",
    "\n",
    "As there are a lot of variables present in the data, Recursive Feature Elimination (RFE) will be used to select the most influential features for building the model."
   ]
  },
  {
   "cell_type": "markdown",
   "metadata": {
    "id": "927evRo1VO4e"
   },
   "source": [
    "7.1.1 Import required libraries <font color=\"red\">[1 Mark]</font>"
   ]
  },
  {
   "cell_type": "code",
   "execution_count": null,
   "metadata": {
    "id": "V1uKag9gbzFI"
   },
   "outputs": [],
   "source": [
    "# Import 'LogisticRegression' and create a LogisticRegression object\n",
    "from sklearn.linear_model import LogisticRegression\n",
    "\n",
    "# Create a Logistic Regression object\n",
    "logreg = LogisticRegression()"
   ]
  },
  {
   "cell_type": "markdown",
   "metadata": {
    "id": "M_flTl2qVS1t"
   },
   "source": [
    "7.1.2 Import RFE  and select 15 variables <font color=\"red\">[3 Mark]</font>"
   ]
  },
  {
   "cell_type": "code",
   "execution_count": null,
   "metadata": {
    "id": "JMAKjGQAbzFI"
   },
   "outputs": [],
   "source": [
    "# Import RFE and select 15 variables\n",
    "from sklearn.feature_selection import RFE\n",
    "rfe = RFE(model, n_features_to_select=15) # Select top 15 features\n",
    "rfe.fit(X_train, y_train)"
   ]
  },
  {
   "cell_type": "code",
   "execution_count": null,
   "metadata": {
    "id": "znuj-wmubzFJ"
   },
   "outputs": [],
   "source": [
    "# Display the features selected by RFE\n",
    "selected_features = X_train.columns[rfe.support_]"
   ]
  },
  {
   "cell_type": "markdown",
   "metadata": {
    "id": "AfSLJwIFbzFJ"
   },
   "source": [
    "7.1.3 Store the selected features <font color=\"red\">[1 Mark]</font>\n",
    "\n",
    "\n"
   ]
  },
  {
   "cell_type": "code",
   "execution_count": null,
   "metadata": {
    "id": "CblOqMSzbzFJ"
   },
   "outputs": [],
   "source": [
    "# Put columns selected by RFE into variable 'col'\n",
    "col = selected_feature"
   ]
  },
  {
   "cell_type": "markdown",
   "metadata": {
    "id": "wMGvl2H1bzFJ"
   },
   "source": [
    "### **7.2 Building Logistic Regression Model** <font color = red>[20 marks]</font>\n",
    "\n",
    "Now that you have selected the variables through RFE, use these features to build a logistic regression model with statsmodels. This will allow you to assess the statistical aspects, such as p-values and VIFs, which are important for checking multicollinearity and ensuring that the predictors are not highly correlated with each other, as this could distort the model's coefficients."
   ]
  },
  {
   "cell_type": "markdown",
   "metadata": {
    "id": "X9t-NQ2KjHv6"
   },
   "source": [
    "7.2.1 Select relevant columns on training set <font color=\"red\">[1 Mark]</font>"
   ]
  },
  {
   "cell_type": "code",
   "execution_count": null,
   "metadata": {
    "id": "HLHDHKfSbzFJ"
   },
   "outputs": [],
   "source": [
    "# Select only the columns selected by RFE\n",
    "df_train = df_train.loc[:, col]"
   ]
  },
  {
   "cell_type": "code",
   "execution_count": null,
   "metadata": {
    "id": "DLukEfebbzFJ"
   },
   "outputs": [],
   "source": [
    "# View the training data\n",
    "df_train.head()"
   ]
  },
  {
   "cell_type": "markdown",
   "metadata": {
    "id": "Ikq-mNcWjZ7u"
   },
   "source": [
    "7.2.2 Add constant to training set <font color = \"red\">[1 Mark]</font>"
   ]
  },
  {
   "cell_type": "code",
   "execution_count": null,
   "metadata": {
    "id": "QNcomiZdbzFK"
   },
   "outputs": [],
   "source": [
    "# Import statsmodels and add constant to training set\n",
    "import statsmodels.api as sm\n",
    "df_train_with_constant = sm.add_constant(df_train)"
   ]
  },
  {
   "cell_type": "markdown",
   "metadata": {
    "id": "XbOjP0UJjmJr"
   },
   "source": [
    "7.2.3 Fit logistic regression model <font color=\"red\">[3 Marks]</font>"
   ]
  },
  {
   "cell_type": "code",
   "execution_count": null,
   "metadata": {
    "id": "ZTQHS0e7bzFK"
   },
   "outputs": [],
   "source": [
    "# Fit a logistic regression model on X_train after adding a constant and output the summary\n",
    "result = df_train_with_constant.fit()"
   ]
  },
  {
   "cell_type": "markdown",
   "metadata": {
    "id": "xyLcup7xbzFK"
   },
   "source": [
    "**Model Interpretation**\n",
    "\n",
    "The output summary table  will provide the features used for building model along with coefficient of each of the feature and their p-value. The p-value in a logistic regression model is used to assess the statistical significance of each coefficient. Lesser the p-value, more significant the feature is in the model.\n",
    "\n",
    "A positive coefficient will indicate that an increase in the value of feature would increase the odds of the event occurring. On the other hand, a negative coefficient means the opposite, i.e,  an increase in the value of feature would decrease the odds of the event occurring.\n",
    "\n"
   ]
  },
  {
   "cell_type": "markdown",
   "metadata": {
    "id": "LICa4vdcj0nP"
   },
   "source": [
    "7.2.4 Evaluate VIF of features <font color=\"red\">[3 Marks]</font>"
   ]
  },
  {
   "cell_type": "code",
   "execution_count": null,
   "metadata": {
    "id": "HCHI-Z-UbzFK"
   },
   "outputs": [],
   "source": [
    "# Import 'variance_inflation_factor'\n",
    "from statsmodels.stats.outliers_influence import variance_inflation_factor"
   ]
  },
  {
   "cell_type": "code",
   "execution_count": null,
   "metadata": {
    "id": "ute-cXihbzFL"
   },
   "outputs": [],
   "source": [
    "# Make a VIF DataFrame for all the variables present\n",
    "def create_vif_dataframe(df, features):\n",
    "    vif_data = pd.DataFrame()\n",
    "    vif_data[\"feature\"] = features\n",
    "    vif_data[\"VIF\"] = [variance_inflation_factor(df[features].values, i) \n",
    "                        for i in range(len(features))]\n",
    "    return vif_data"
   ]
  },
  {
   "cell_type": "code",
   "execution_count": null,
   "metadata": {},
   "outputs": [],
   "source": [
    "create_vif_dataframe(df_train_with_constant, col)"
   ]
  },
  {
   "cell_type": "markdown",
   "metadata": {
    "id": "1iDznUNbbzFL"
   },
   "source": [
    "Proceed to the next step if p-values and VIFs are within acceptable ranges.  If you observe high p-values or VIFs, create new cells to drop the features and retrain the model."
   ]
  },
  {
   "cell_type": "markdown",
   "metadata": {
    "id": "uVrg9XDGkC1p"
   },
   "source": [
    "7.2.5 Make predictions on training set <font color = \"red\">[2 Marks]</font>"
   ]
  },
  {
   "cell_type": "code",
   "execution_count": null,
   "metadata": {
    "id": "bq545BKdbzFL"
   },
   "outputs": [],
   "source": [
    "# Predict the probabilities on the training set\n",
    "train_probabilities = model.predict_proba(df_train_with_constant)"
   ]
  },
  {
   "cell_type": "markdown",
   "metadata": {
    "id": "M7M8kndokRo3"
   },
   "source": [
    "7.2.6 Format the prediction output <font color=\"red\">[1 Mark]</font>"
   ]
  },
  {
   "cell_type": "code",
   "execution_count": null,
   "metadata": {
    "id": "tqSLANvybzFL"
   },
   "outputs": [],
   "source": [
    "# Reshape it into an array\n",
    "arr = np.array([train_probabilities])"
   ]
  },
  {
   "cell_type": "markdown",
   "metadata": {
    "id": "B__pQ9mBbzFM"
   },
   "source": [
    "7.2.7 Create a DataFrame with the actual stayed flag and the predicted probabilities <font color=\"red\">[1 Mark]</font>"
   ]
  },
  {
   "cell_type": "code",
   "execution_count": null,
   "metadata": {
    "id": "-YcNu7FEbzFM"
   },
   "outputs": [],
   "source": [
    "# Create a new DataFrame containing the actual stayed flag and the probabilities predicted by the model\n"
   ]
  },
  {
   "cell_type": "markdown",
   "metadata": {
    "id": "ShtZ7a30bzFM"
   },
   "source": [
    "7.2.8 Create a new column 'Predicted' with 1 if predicted probabilities are greater than 0.5 else 0 <font color = \"red\">[1 Mark]</font>"
   ]
  },
  {
   "cell_type": "code",
   "execution_count": null,
   "metadata": {
    "id": "_V3Pq0k4bzFM"
   },
   "outputs": [],
   "source": [
    "# Create a new column 'Predicted' with 1 if predicted probabilities are greater than 0.5 else 0\n"
   ]
  },
  {
   "cell_type": "markdown",
   "metadata": {
    "id": "e6mNG69ybzFL"
   },
   "source": [
    "**Evaluation of performance of Model**\n",
    "\n",
    "Evaluate the performance of the model based on the predictions made on the training set.\n"
   ]
  },
  {
   "cell_type": "markdown",
   "metadata": {
    "id": "Kl_XslnfbzFM"
   },
   "source": [
    "7.2.9 Check the accuracy of the model based on the predictions made on the training set <font color = \"red\">[1 Mark]</font>"
   ]
  },
  {
   "cell_type": "code",
   "execution_count": null,
   "metadata": {
    "id": "jhA1kq_dbzFM"
   },
   "outputs": [],
   "source": [
    "# Import metrics from sklearn for evaluation\n",
    "from sklearn import metrics\n",
    "\n",
    "# Check the overall accuracy\n"
   ]
  },
  {
   "cell_type": "markdown",
   "metadata": {
    "id": "JIo_9vjSbzFM"
   },
   "source": [
    "7.2.10 Create a confusion matrix based on the predictions made on the training set <font color=\"red\">[1 mark]</font>"
   ]
  },
  {
   "cell_type": "code",
   "execution_count": null,
   "metadata": {
    "id": "L_1DsDkjbzFN"
   },
   "outputs": [],
   "source": [
    "# Create confusion matrix\n"
   ]
  },
  {
   "cell_type": "markdown",
   "metadata": {
    "id": "LhUC-9xrpv1L"
   },
   "source": [
    "7.2.11 Create variables for true positive, true negative, false positive and false negative <font color=\"red\">[1 Mark]</font>"
   ]
  },
  {
   "cell_type": "code",
   "execution_count": null,
   "metadata": {
    "id": "lK9ZbfjIbzFN"
   },
   "outputs": [],
   "source": [
    "# Create variables for true positive, true negative, false positive and false negative\n"
   ]
  },
  {
   "cell_type": "markdown",
   "metadata": {
    "id": "teRSbuOSbzFN"
   },
   "source": [
    "7.2.12 Calculate sensitivity and specificity of model  <font color=\"red\">[2 Marks]</font>"
   ]
  },
  {
   "cell_type": "code",
   "execution_count": null,
   "metadata": {
    "id": "-G-5XVNJbzFN"
   },
   "outputs": [],
   "source": [
    "# Calculate sensitivity\n"
   ]
  },
  {
   "cell_type": "code",
   "execution_count": null,
   "metadata": {
    "id": "A24XTKXnEFYH"
   },
   "outputs": [],
   "source": [
    "# Calculate specificity"
   ]
  },
  {
   "cell_type": "markdown",
   "metadata": {
    "id": "lDuRAKYgbzFO"
   },
   "source": [
    "7.2.13 Calculate precision and recall of model <font color=\"red\">[2 Marks]</font>"
   ]
  },
  {
   "cell_type": "code",
   "execution_count": null,
   "metadata": {
    "id": "SwzXNQqYbzFO"
   },
   "outputs": [],
   "source": [
    "# Calculate precision\n"
   ]
  },
  {
   "cell_type": "code",
   "execution_count": null,
   "metadata": {
    "id": "kCNnfrQIbzFO"
   },
   "outputs": [],
   "source": [
    "# Calculate recall\n"
   ]
  },
  {
   "cell_type": "markdown",
   "metadata": {
    "id": "IThpUyeKbzFO"
   },
   "source": [
    "### **7.3 Find the optimal cutoff** <font color = red>[15 marks]</font>\n",
    "\n",
    "Find the optimal cutoff to improve model performance. While a default threshold of 0.5 was used for initial evaluation, optimising this threshold can enhance the model's performance.\n",
    "\n",
    "First, plot the ROC curve and check AUC.\n",
    "\n"
   ]
  },
  {
   "cell_type": "markdown",
   "metadata": {
    "id": "K6P4KhA_pH-P"
   },
   "source": [
    "7.3.1 Plot ROC curve <font color=\"red\">[3 Marks]</font>"
   ]
  },
  {
   "cell_type": "code",
   "execution_count": null,
   "metadata": {
    "id": "-QAnutZNbzFO"
   },
   "outputs": [],
   "source": [
    "# Define ROC function\n"
   ]
  },
  {
   "cell_type": "code",
   "execution_count": null,
   "metadata": {
    "id": "-hkCvgfEbzFO"
   },
   "outputs": [],
   "source": [
    "# Call the ROC function\n"
   ]
  },
  {
   "cell_type": "markdown",
   "metadata": {
    "id": "TIbs06KDbzFO"
   },
   "source": [
    "**Sensitivity and Specificity tradeoff**\n",
    "\n",
    "Check sensitivity and specificity tradeoff to find the optimal cutoff point."
   ]
  },
  {
   "cell_type": "markdown",
   "metadata": {
    "id": "1II4CXInpfuZ"
   },
   "source": [
    "7.3.2 Predict on training set at various probability cutoffs <font color=\"red\">[1 Mark]</font>"
   ]
  },
  {
   "cell_type": "code",
   "execution_count": null,
   "metadata": {
    "id": "-74M5fbIbzFO"
   },
   "outputs": [],
   "source": [
    "# Predict on training data by creating columns with different probability cutoffs to explore the impact of cutoff on model performance\n"
   ]
  },
  {
   "cell_type": "markdown",
   "metadata": {
    "id": "DA0BEORfp_nW"
   },
   "source": [
    "7.3.3 Plot for accuracy, sensitivity, specificity at different probability cutoffs <font color=\"red\">[2 Marks]</font>"
   ]
  },
  {
   "cell_type": "code",
   "execution_count": null,
   "metadata": {
    "id": "An1cy6CJbzFP"
   },
   "outputs": [],
   "source": [
    "# Create a DataFrame to see the values of accuracy, sensitivity, and specificity at different values of probability cutoffs\n"
   ]
  },
  {
   "cell_type": "code",
   "execution_count": null,
   "metadata": {
    "id": "P725dvI6bzFP"
   },
   "outputs": [],
   "source": [
    "# Plot accuracy, sensitivity, and specificity at different values of probability cutoffs\n"
   ]
  },
  {
   "cell_type": "markdown",
   "metadata": {
    "id": "xnCc19DyqUSt"
   },
   "source": [
    "7.3.4 Create a column for final prediction based on the optimal cutoff <font color=\"red\">[2 Marks]</font>"
   ]
  },
  {
   "cell_type": "code",
   "execution_count": null,
   "metadata": {
    "id": "yLyy-eawbzFP"
   },
   "outputs": [],
   "source": [
    "# Create a column for final prediction based on the optimal cutoff\n"
   ]
  },
  {
   "cell_type": "markdown",
   "metadata": {
    "id": "rRyaBXdEqryR"
   },
   "source": [
    "7.3.5 Calculate model's accuracy <font color=\"red\">[1Mark]</font>"
   ]
  },
  {
   "cell_type": "code",
   "execution_count": null,
   "metadata": {
    "id": "dr5PFXZMbzFP"
   },
   "outputs": [],
   "source": [
    "# Calculate the accuracy\n"
   ]
  },
  {
   "cell_type": "markdown",
   "metadata": {
    "id": "DfgLjKNYrDr8"
   },
   "source": [
    "7.3.6 Create confusion matrix <font color=\"red\">[1Mark]</font>"
   ]
  },
  {
   "cell_type": "code",
   "execution_count": null,
   "metadata": {
    "id": "KNCQmHAgbzFQ"
   },
   "outputs": [],
   "source": [
    "# Create the confusion matrix once again\n"
   ]
  },
  {
   "cell_type": "markdown",
   "metadata": {
    "id": "ZE80CYQ4rMCM"
   },
   "source": [
    "7.3.7 Create variables for true positive, true negative, false positive and false negative <font color=\"red\">[1Mark]</font>"
   ]
  },
  {
   "cell_type": "code",
   "execution_count": null,
   "metadata": {
    "id": "l53itzjzbzFQ"
   },
   "outputs": [],
   "source": [
    "# Create variables for true positive, true negative, false positive and false negative\n"
   ]
  },
  {
   "cell_type": "markdown",
   "metadata": {
    "id": "0drkvl0drY2t"
   },
   "source": [
    "7.3.8 Calculate sensitivity and specificity of the model <font color=\"red\">[1Mark]</font>"
   ]
  },
  {
   "cell_type": "code",
   "execution_count": null,
   "metadata": {
    "id": "GtXYfD1mbzFQ"
   },
   "outputs": [],
   "source": [
    "# Calculate Sensitivity\n"
   ]
  },
  {
   "cell_type": "code",
   "execution_count": null,
   "metadata": {
    "id": "I4Meaz7RbzFR"
   },
   "outputs": [],
   "source": [
    "# Calculate Specificity\n"
   ]
  },
  {
   "cell_type": "markdown",
   "metadata": {
    "id": "ZBm4vL_2rhgF"
   },
   "source": [
    "7.3.9 Calculate precision and recall of the model <font color=\"red\">[1Mark]</font>"
   ]
  },
  {
   "cell_type": "code",
   "execution_count": null,
   "metadata": {
    "id": "lnQgXuQCbzFR"
   },
   "outputs": [],
   "source": [
    "# Calculate Precision\n"
   ]
  },
  {
   "cell_type": "code",
   "execution_count": null,
   "metadata": {
    "id": "Z4HQbkZhbzFS"
   },
   "outputs": [],
   "source": [
    "# Calculate Recall\n"
   ]
  },
  {
   "cell_type": "markdown",
   "metadata": {
    "id": "rxmGPpwpbzFS"
   },
   "source": [
    "**Precision and Recall tradeoff**\n",
    "\n",
    "Check optimal cutoff value by plotting precision-recall curve, and adjust the cutoff based on the precision and recall tradeoff if required."
   ]
  },
  {
   "cell_type": "code",
   "execution_count": null,
   "metadata": {
    "id": "L1gibcCMbzFS"
   },
   "outputs": [],
   "source": [
    "# Import precision-recall curve function\n",
    "from sklearn.metrics import precision_recall_curve"
   ]
  },
  {
   "cell_type": "code",
   "execution_count": null,
   "metadata": {
    "id": "MV-oGIWHbzFT"
   },
   "outputs": [],
   "source": [
    "# Check actual and predicted values from initial model\n"
   ]
  },
  {
   "cell_type": "markdown",
   "metadata": {
    "id": "9dV_jCG6rykd"
   },
   "source": [
    "7.3.10 Plot precision-recall curve <font color=\"red\">[2 Marks]</font>"
   ]
  },
  {
   "cell_type": "code",
   "execution_count": null,
   "metadata": {
    "id": "da902sgzbzFT"
   },
   "outputs": [],
   "source": [
    "# Plot precision-recall curve\n"
   ]
  },
  {
   "cell_type": "markdown",
   "metadata": {
    "id": "c6fCFjfubzFT"
   },
   "source": [
    "## **8. Prediction and Model Evaluation** <font color = red>[30 marks]</font>\n",
    "\n",
    "Use the model from the previous step to make predictions on the validation set with the optimal cutoff. Then evaluate the model's performance using metrics such as accuracy, sensitivity, specificity, precision, and recall."
   ]
  },
  {
   "cell_type": "markdown",
   "metadata": {
    "id": "GEY3dsXNbzFU"
   },
   "source": [
    "### **8.1 Make predictions over validation set** <font color = red>[15 marks]</font>"
   ]
  },
  {
   "cell_type": "markdown",
   "metadata": {
    "id": "6PSHBQ5qbzFU"
   },
   "source": [
    "8.1.1 Select relevant features for validation set <font color=\"red\">[2 Marks]</font>\n",
    "\n"
   ]
  },
  {
   "cell_type": "code",
   "execution_count": null,
   "metadata": {
    "id": "g9n1aTakbzFU"
   },
   "outputs": [],
   "source": [
    "# Select the relevant features for validation set\n"
   ]
  },
  {
   "cell_type": "markdown",
   "metadata": {
    "id": "pNGNgwNrsXf9"
   },
   "source": [
    "8.1.2 Add constant to X_validation <font color=\"red\">[2 Marks]</font>"
   ]
  },
  {
   "cell_type": "code",
   "execution_count": null,
   "metadata": {
    "id": "3Y_CGwNWbzFU"
   },
   "outputs": [],
   "source": [
    "# Add constant to X_validation\n"
   ]
  },
  {
   "cell_type": "markdown",
   "metadata": {
    "id": "tSl-wRsRshW_"
   },
   "source": [
    "8.1.3 Make predictions over validation set <font color=\"red\">[3 Marks]</font>"
   ]
  },
  {
   "cell_type": "code",
   "execution_count": null,
   "metadata": {
    "id": "N7tRbWcQbzFU"
   },
   "outputs": [],
   "source": [
    "# Make predictions on the validation set and store it in the variable 'y_validation_pred'\n",
    "\n",
    "# View predictions\n"
   ]
  },
  {
   "cell_type": "markdown",
   "metadata": {
    "id": "ONdgg12qtJSs"
   },
   "source": [
    "8.1.4 Create DataFrame with actual values and predicted values for validation set <font color=\"red\">[5 Marks]</font>"
   ]
  },
  {
   "cell_type": "code",
   "execution_count": null,
   "metadata": {
    "id": "cxhXWRVMbzFV"
   },
   "outputs": [],
   "source": [
    "# Convert 'y_validation_pred' to a DataFrame 'predicted_probability'\n",
    "\n",
    "# Convert 'y_validation' to DataFrame 'actual'\n",
    "\n",
    "# Remove index from both DataFrames 'actual' and 'predicted_probability' to append them side by side\n"
   ]
  },
  {
   "cell_type": "markdown",
   "metadata": {
    "id": "3HrzB4MRtlGB"
   },
   "source": [
    "8.1.5 Predict final prediction based on the cutoff value <font color=\"red\">[3 Marks]</font>"
   ]
  },
  {
   "cell_type": "code",
   "execution_count": null,
   "metadata": {
    "id": "SCshcMgnbzFW"
   },
   "outputs": [],
   "source": [
    "# Make predictions on the validation set using the optimal cutoff and store it in a column 'final_prediction'\n",
    "\n",
    "# Check the DataFrame\n"
   ]
  },
  {
   "cell_type": "markdown",
   "metadata": {
    "id": "gMSL-5-pbzFW"
   },
   "source": [
    "### **8.2 Calculate accuracy of the model** <font color = red>[2 marks]</font>"
   ]
  },
  {
   "cell_type": "code",
   "execution_count": null,
   "metadata": {
    "id": "bwRF3dn6bzFW"
   },
   "outputs": [],
   "source": [
    "# Calculate the overall accuracy\n"
   ]
  },
  {
   "cell_type": "markdown",
   "metadata": {
    "id": "8tNEp8_bbzFW"
   },
   "source": [
    "### **8.3 Create confusion matrix and create variables for true positive, true negative, false positive and false negative** <font color = red>[5 marks]</font>"
   ]
  },
  {
   "cell_type": "code",
   "execution_count": null,
   "metadata": {
    "id": "RnaOhweTbzFW"
   },
   "outputs": [],
   "source": [
    "# Create confusion matrix\n"
   ]
  },
  {
   "cell_type": "code",
   "execution_count": null,
   "metadata": {
    "id": "AbnOzs9VbzFW"
   },
   "outputs": [],
   "source": [
    "# Create variables for true positive, true negative, false positive and false negative\n"
   ]
  },
  {
   "cell_type": "markdown",
   "metadata": {
    "id": "rfnlV8xobzFW"
   },
   "source": [
    "### **8.4 Calculate sensitivity and specificity** <font color = red>[4 marks]</font>"
   ]
  },
  {
   "cell_type": "code",
   "execution_count": null,
   "metadata": {
    "id": "-M3WRwH9bzFW"
   },
   "outputs": [],
   "source": [
    "# Calculate sensitivity\n"
   ]
  },
  {
   "cell_type": "code",
   "execution_count": null,
   "metadata": {
    "id": "mAf35xDnbzFX"
   },
   "outputs": [],
   "source": [
    "# Calculate specificity\n"
   ]
  },
  {
   "cell_type": "markdown",
   "metadata": {
    "id": "nsUKjAT0bzFX"
   },
   "source": [
    "### **8.5 Calculate precision and recall** <font color = red>[4 marks]</font>"
   ]
  },
  {
   "cell_type": "code",
   "execution_count": null,
   "metadata": {
    "id": "19C3vTO3bzFX"
   },
   "outputs": [],
   "source": [
    "# Calculate precision\n"
   ]
  },
  {
   "cell_type": "code",
   "execution_count": null,
   "metadata": {
    "id": "vvyUapBfbzFX"
   },
   "outputs": [],
   "source": [
    "# Calculate recall\n"
   ]
  },
  {
   "cell_type": "markdown",
   "metadata": {
    "id": "Hmyrh46kbzFY"
   },
   "source": [
    "## Conclusion\n",
    "\n"
   ]
  }
 ],
 "metadata": {
  "colab": {
   "provenance": [],
   "toc_visible": true
  },
  "kernelspec": {
   "display_name": "Python 3 (ipykernel)",
   "language": "python",
   "name": "python3"
  },
  "language_info": {
   "codemirror_mode": {
    "name": "ipython",
    "version": 3
   },
   "file_extension": ".py",
   "mimetype": "text/x-python",
   "name": "python",
   "nbconvert_exporter": "python",
   "pygments_lexer": "ipython3",
   "version": "3.12.7"
  }
 },
 "nbformat": 4,
 "nbformat_minor": 4
}
